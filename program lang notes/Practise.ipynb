{
 "cells": [
  {
   "cell_type": "code",
   "execution_count": 17,
   "metadata": {},
   "outputs": [
    {
     "name": "stdout",
     "output_type": "stream",
     "text": [
      "10\n",
      "2 3 4 5 6 8 7 6 5 18\n",
      "[2, 3, 4, 5, 6, 8, 7, 6, 5, 18]\n",
      "6\n"
     ]
    }
   ],
   "source": [
    "import collections\n",
    "n = int(input())\n",
    "s =list(map(int,input().split()))\n",
    "print(s)\n",
    "i = input()"
   ]
  },
  {
   "cell_type": "code",
   "execution_count": 26,
   "metadata": {},
   "outputs": [
    {
     "name": "stdout",
     "output_type": "stream",
     "text": [
      "dict_items([(2, 1), (3, 1), (4, 1), (5, 2), (6, 2), (8, 1), (7, 1), (18, 1)])\n"
     ]
    }
   ],
   "source": [
    "d=collections.Counter(s).items()\n",
    "print(d)"
   ]
  },
  {
   "cell_type": "code",
   "execution_count": 12,
   "metadata": {},
   "outputs": [
    {
     "name": "stdout",
     "output_type": "stream",
     "text": [
      "6 55\n",
      "6 45\n",
      "6 55\n",
      "4 40\n",
      "18 60\n",
      "10 50\n",
      "[[6, 55], [6, 45], [6, 55], [4, 40], [18, 60], [10, 50]]\n"
     ]
    }
   ],
   "source": [
    "lis = [list(map(int,input().split())) for g in range(int(i))]\n",
    "print(lis)"
   ]
  },
  {
   "cell_type": "code",
   "execution_count": 40,
   "metadata": {},
   "outputs": [
    {
     "name": "stdout",
     "output_type": "stream",
     "text": [
      "Counter({6: 1, 55: 1})\n"
     ]
    }
   ],
   "source": [
    "print(collections.Counter(lis[0]))"
   ]
  },
  {
   "cell_type": "markdown",
   "metadata": {},
   "source": [
    "# This is the notebook for practise "
   ]
  },
  {
   "cell_type": "code",
   "execution_count": null,
   "metadata": {},
   "outputs": [],
   "source": []
  },
  {
   "cell_type": "code",
   "execution_count": null,
   "metadata": {},
   "outputs": [],
   "source": []
  },
  {
   "cell_type": "markdown",
   "metadata": {},
   "source": [
    "# Dictionaries in python 3"
   ]
  },
  {
   "cell_type": "markdown",
   "metadata": {},
   "source": [
    "1. Dictionaries in python is an unordered collection of data values. used to store the values in key value pair, like map. key:value.\n",
    "1. creating dictionaries\n",
    "2. adding elements to a dictionary\n",
    "3. accessiong the elements of the dictionary \n",
    "4. removing elements from the dictionary \n",
    "5. using other functions for the dictionary "
   ]
  },
  {
   "cell_type": "code",
   "execution_count": 2,
   "metadata": {},
   "outputs": [
    {
     "name": "stdout",
     "output_type": "stream",
     "text": [
      "<class 'dict'>\n"
     ]
    }
   ],
   "source": [
    "# creating dictionaries\n",
    "dic = {} # we have created a dictionary\n",
    "print(type(dic))"
   ]
  },
  {
   "cell_type": "code",
   "execution_count": 3,
   "metadata": {},
   "outputs": [
    {
     "name": "stdout",
     "output_type": "stream",
     "text": [
      "\n",
      " printing dict with key vlaues as integer keys\n",
      "{1: 'Geeks', 2: 'For', 3: 'Geeks'}\n"
     ]
    }
   ],
   "source": [
    "Dict = {1:'Geeks',2:'For',3:'Geeks'}\n",
    "print(\"\\n printing dict with key vlaues as integer keys\")\n",
    "print(Dict)"
   ]
  },
  {
   "cell_type": "code",
   "execution_count": 9,
   "metadata": {},
   "outputs": [
    {
     "name": "stdout",
     "output_type": "stream",
     "text": [
      "using the mixed key values \n",
      "{'Name': 'Geeks', 1: [1, 2, 3, 4]}\n",
      "dict_values(['Geeks', [1, 2, 3, 4]])\n",
      "dict_keys(['Name', 1])\n",
      "dict_items([('Name', 'Geeks'), (1, [1, 2, 3, 4])])\n"
     ]
    }
   ],
   "source": [
    "# using key values a mixed types\n",
    "Dict = {'Name':'Geeks',1:[1,2,3,4]}\n",
    "print(\"using the mixed key values \")\n",
    "print(Dict)\n",
    "print(Dict.values())\n",
    "print(Dict.keys())\n",
    "print(Dict.items())"
   ]
  },
  {
   "cell_type": "code",
   "execution_count": 11,
   "metadata": {},
   "outputs": [
    {
     "name": "stdout",
     "output_type": "stream",
     "text": [
      "{1: 'abhi', 2: 'aman'}\n",
      "<class 'dict'>\n"
     ]
    }
   ],
   "source": [
    "# using inbuilt function dict:\n",
    "dic = dict({1:\"abhi\",2:\"aman\"})\n",
    "print(dic)\n",
    "print(type(dic))"
   ]
  },
  {
   "cell_type": "code",
   "execution_count": 12,
   "metadata": {},
   "outputs": [
    {
     "name": "stdout",
     "output_type": "stream",
     "text": [
      "{1: 'Geeks', 2: 'aman', 3: {'A': 'Welcome', 'B': 'To', 'C': 'Geeks'}}\n"
     ]
    }
   ],
   "source": [
    "# creating a nested dictionary \n",
    "Dict = {1:'Geeks',2:'aman',3:{'A':'Welcome','B':'To','C':'Geeks'}}\n",
    "print(Dict)"
   ]
  },
  {
   "cell_type": "markdown",
   "metadata": {},
   "source": [
    "## Adding elements to the Dictionary "
   ]
  },
  {
   "cell_type": "code",
   "execution_count": 13,
   "metadata": {},
   "outputs": [
    {
     "name": "stdout",
     "output_type": "stream",
     "text": [
      "Empty Dictionary: \n",
      "{}\n"
     ]
    }
   ],
   "source": [
    "Dict={}\n",
    "print(\"Empty Dictionary: \")\n",
    "print(Dict)"
   ]
  },
  {
   "cell_type": "code",
   "execution_count": 14,
   "metadata": {},
   "outputs": [
    {
     "name": "stdout",
     "output_type": "stream",
     "text": [
      "{0: 'Geeks', 1: 'for', 2: 1}\n"
     ]
    }
   ],
   "source": [
    "Dict[0]='Geeks'\n",
    "Dict[1]='for'\n",
    "Dict[2]=1\n",
    "print(Dict)"
   ]
  },
  {
   "cell_type": "code",
   "execution_count": 15,
   "metadata": {},
   "outputs": [
    {
     "name": "stdout",
     "output_type": "stream",
     "text": [
      "{0: 'Geeks', 1: 'for', 2: 1, 'Value_set': (2, 3, 4)}\n"
     ]
    }
   ],
   "source": [
    "#adding set of values to a single key\n",
    "Dict['Value_set']=2,3,4\n",
    "print(Dict)"
   ]
  },
  {
   "cell_type": "code",
   "execution_count": 16,
   "metadata": {},
   "outputs": [
    {
     "name": "stdout",
     "output_type": "stream",
     "text": [
      "{0: 'Geeks', 1: 'for', 2: 'Welcome', 'Value_set': (2, 3, 4)}\n"
     ]
    }
   ],
   "source": [
    "#updating the value of the dictionary\n",
    "Dict[2]='Welcome'\n",
    "print(Dict)"
   ]
  },
  {
   "cell_type": "code",
   "execution_count": 17,
   "metadata": {},
   "outputs": [],
   "source": [
    "#adding nested key value to a dictionary \n",
    "Dict[5]={'Nested':{'1':'Life','2':'Geeks'}}"
   ]
  },
  {
   "cell_type": "code",
   "execution_count": 18,
   "metadata": {},
   "outputs": [
    {
     "name": "stdout",
     "output_type": "stream",
     "text": [
      "{0: 'Geeks', 1: 'for', 2: 'Welcome', 'Value_set': (2, 3, 4), 5: {'Nested': {'1': 'Life', '2': 'Geeks'}}}\n"
     ]
    }
   ],
   "source": [
    "print(Dict)"
   ]
  },
  {
   "cell_type": "markdown",
   "metadata": {},
   "source": [
    "## Accessing the values of the dictionary"
   ]
  },
  {
   "cell_type": "code",
   "execution_count": 19,
   "metadata": {},
   "outputs": [
    {
     "data": {
      "text/plain": [
       "{0: 'Geeks',\n",
       " 1: 'for',\n",
       " 2: 'Welcome',\n",
       " 'Value_set': (2, 3, 4),\n",
       " 5: {'Nested': {'1': 'Life', '2': 'Geeks'}}}"
      ]
     },
     "execution_count": 19,
     "metadata": {},
     "output_type": "execute_result"
    }
   ],
   "source": [
    "Dict"
   ]
  },
  {
   "cell_type": "code",
   "execution_count": 20,
   "metadata": {},
   "outputs": [
    {
     "name": "stdout",
     "output_type": "stream",
     "text": [
      "Accessing a element using key:\n",
      "Welcome\n",
      "Accessing a element using key:\n",
      "(2, 3, 4)\n"
     ]
    }
   ],
   "source": [
    "print(\"Accessing a element using key:\")\n",
    "print(Dict[2])\n",
    "\n",
    "print(\"Accessing a element using key:\")\n",
    "print(Dict['Value_set'])"
   ]
  },
  {
   "cell_type": "code",
   "execution_count": 21,
   "metadata": {},
   "outputs": [
    {
     "name": "stdout",
     "output_type": "stream",
     "text": [
      "Welcome\n"
     ]
    }
   ],
   "source": [
    "#using the inbuilt function to access the values \n",
    "print(Dict.get(2))"
   ]
  },
  {
   "cell_type": "code",
   "execution_count": 22,
   "metadata": {},
   "outputs": [
    {
     "name": "stdout",
     "output_type": "stream",
     "text": [
      "{1: 'Geeks'}\n"
     ]
    }
   ],
   "source": [
    "#accessing the elements of a nested  dictionary \n",
    "Dict1 = {'dict1':{1:'Geeks'},\n",
    "        'dict2':{'Name':'For'}}\n",
    "print(Dict1['dict1'])"
   ]
  },
  {
   "cell_type": "code",
   "execution_count": 23,
   "metadata": {},
   "outputs": [
    {
     "name": "stdout",
     "output_type": "stream",
     "text": [
      "Geeks\n",
      "For\n"
     ]
    }
   ],
   "source": [
    "print(Dict1['dict1'][1])\n",
    "print(Dict1['dict2']['Name'])"
   ]
  },
  {
   "cell_type": "markdown",
   "metadata": {},
   "source": [
    "## Removing the elements from the dictionary"
   ]
  },
  {
   "cell_type": "code",
   "execution_count": 24,
   "metadata": {},
   "outputs": [],
   "source": [
    "# 1)we can use del key word \n",
    "# 2) we can use pop key word\n",
    "# 3) we can use popitem keyword\n",
    "# 4) we can use clear keyword\n"
   ]
  },
  {
   "cell_type": "code",
   "execution_count": 26,
   "metadata": {},
   "outputs": [],
   "source": [
    "# 1.del key word deletes the entire dictionary and hence raise an error\n",
    "# 2.pop keyword is used to return and delete the value of the key specified\n",
    "# 3.popitem keyword returns and removes an arbitary element(key,value) pair from the dictionary.\n",
    "# 4.clear() keyword deletes all the items at once in the dictionary"
   ]
  },
  {
   "cell_type": "markdown",
   "metadata": {},
   "source": [
    "## Other functions in the dictionary "
   ]
  },
  {
   "cell_type": "markdown",
   "metadata": {},
   "source": [
    "1) has_key() : returns true if the key in the dictionary dict else false.\n",
    "\n",
    "2) cmp(): this is used to compare the elements of both dict"
   ]
  },
  {
   "cell_type": "code",
   "execution_count": null,
   "metadata": {},
   "outputs": [],
   "source": []
  }
 ],
 "metadata": {
  "kernelspec": {
   "display_name": "Python 3",
   "language": "python",
   "name": "python3"
  },
  "language_info": {
   "codemirror_mode": {
    "name": "ipython",
    "version": 3
   },
   "file_extension": ".py",
   "mimetype": "text/x-python",
   "name": "python",
   "nbconvert_exporter": "python",
   "pygments_lexer": "ipython3",
   "version": "3.7.3"
  }
 },
 "nbformat": 4,
 "nbformat_minor": 2
}
